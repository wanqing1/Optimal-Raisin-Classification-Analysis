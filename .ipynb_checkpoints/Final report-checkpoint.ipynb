{
 "cells": [
  {
   "cell_type": "markdown",
   "id": "4c9adf2c-0195-4db8-af2b-9c3466faa2b0",
   "metadata": {},
   "source": [
    "## Title: Optimal Raisin Classification\n",
    "### Contributors: Wanqing Hu, Anders Mirabee, Ivan To, Queenie Wu"
   ]
  },
  {
   "cell_type": "markdown",
   "id": "e0a681c8-5f7a-4a10-941d-c8cc8eea131d",
   "metadata": {},
   "source": [
    "### Introduction\n",
    "\n",
    "Made from dried grapes, raisins are one of the most popular fruit snacks in the world due to their nutritional values being rich in antioxidants, fiber and more (Kenellos et. al 2017). There are over 1200 varieties of raisins that originated and are grown in Turkey, and it has been difficult to distinguish the varieties as black raisins look similar in their sizes, colour and texture. Recent research has developed various classification methods to determine the exact raisin variety based on processed images under controlled studies (Starke and Atalaysun 2015). This dataset is based on research by Çinar et al., where they developed a machine vision system to differentiate between Kecimen and Besni varieties from a total of 900 raisins (2020). Our project makes use of this raisin dataset to develop a classification model based on the K-nearest neighbors classification algorithm. Each data point includes measurements of seven morphological features: area (number of pixels taken up by the raisin), perimeter, long axis length, short axis length, eccentricity (how elliptical the raisin is), convex area (number of pixels on the smallest convex shell of the raisin), and the extent (ratio of convex area to area). Our question is: What is the most accurate combination of three morphological variables for predicting whether a raisin is of the Besni or Kecimen varieties? And what is the estimated accuracy of this combination? To build our classification model, a section of this dataset will retain its class variable and will be used as training data, while another section will have its class variable removed and the algorithm will be used to predict its raisin varieties. These predictions will then be compared to the original class variables to determine a success rate. Based on the comparison, we will pick three of the predictors that yield the highest estimated accuracy to make our classification model reliable."
   ]
  },
  {
   "cell_type": "markdown",
   "id": "18d60809-3199-483d-8ca3-4394c1c4ac14",
   "metadata": {},
   "source": [
    "### Methods & Results"
   ]
  },
  {
   "cell_type": "code",
   "execution_count": 21,
   "id": "95cda8d3-cf4b-42bc-a376-95f1a339b059",
   "metadata": {},
   "outputs": [],
   "source": [
    "library(tidyverse)\n",
    "library(readxl)\n",
    "library(tidymodels)\n",
    "set.seed(9999)"
   ]
  },
  {
   "cell_type": "markdown",
   "id": "f8cddefd-70aa-40b4-bd02-fcf1727e000f",
   "metadata": {},
   "source": [
    "The first thing we did was import the data into R. We used the ```download.file``` function to download the data from the internet as a Microsoft Excel file, then loaded the data into R by using the ```read_excel``` function. Because the “Class” variable was originally of type character, we converted the column type into a factor. "
   ]
  },
  {
   "cell_type": "code",
   "execution_count": 22,
   "id": "314a7908-fdcc-43ff-851e-248c197db9b6",
   "metadata": {
    "tags": []
   },
   "outputs": [
    {
     "data": {
      "text/html": [
       "<table class=\"dataframe\">\n",
       "<caption>A tibble: 6 × 8</caption>\n",
       "<thead>\n",
       "\t<tr><th scope=col>Area</th><th scope=col>MajorAxisLength</th><th scope=col>MinorAxisLength</th><th scope=col>Eccentricity</th><th scope=col>ConvexArea</th><th scope=col>Extent</th><th scope=col>Perimeter</th><th scope=col>Class</th></tr>\n",
       "\t<tr><th scope=col>&lt;dbl&gt;</th><th scope=col>&lt;dbl&gt;</th><th scope=col>&lt;dbl&gt;</th><th scope=col>&lt;dbl&gt;</th><th scope=col>&lt;dbl&gt;</th><th scope=col>&lt;dbl&gt;</th><th scope=col>&lt;dbl&gt;</th><th scope=col>&lt;fct&gt;</th></tr>\n",
       "</thead>\n",
       "<tbody>\n",
       "\t<tr><td>87524</td><td>442.2460</td><td>253.2912</td><td>0.8197384</td><td>90546</td><td>0.7586506</td><td>1184.040</td><td>Kecimen</td></tr>\n",
       "\t<tr><td>75166</td><td>406.6907</td><td>243.0324</td><td>0.8018052</td><td>78789</td><td>0.6841296</td><td>1121.786</td><td>Kecimen</td></tr>\n",
       "\t<tr><td>90856</td><td>442.2670</td><td>266.3283</td><td>0.7983536</td><td>93717</td><td>0.6376128</td><td>1208.575</td><td>Kecimen</td></tr>\n",
       "\t<tr><td>45928</td><td>286.5406</td><td>208.7600</td><td>0.6849892</td><td>47336</td><td>0.6995994</td><td> 844.162</td><td>Kecimen</td></tr>\n",
       "\t<tr><td>79408</td><td>352.1908</td><td>290.8275</td><td>0.5640113</td><td>81463</td><td>0.7927719</td><td>1073.251</td><td>Kecimen</td></tr>\n",
       "\t<tr><td>49242</td><td>318.1254</td><td>200.1221</td><td>0.7773513</td><td>51368</td><td>0.6584564</td><td> 881.836</td><td>Kecimen</td></tr>\n",
       "</tbody>\n",
       "</table>\n"
      ],
      "text/latex": [
       "A tibble: 6 × 8\n",
       "\\begin{tabular}{llllllll}\n",
       " Area & MajorAxisLength & MinorAxisLength & Eccentricity & ConvexArea & Extent & Perimeter & Class\\\\\n",
       " <dbl> & <dbl> & <dbl> & <dbl> & <dbl> & <dbl> & <dbl> & <fct>\\\\\n",
       "\\hline\n",
       "\t 87524 & 442.2460 & 253.2912 & 0.8197384 & 90546 & 0.7586506 & 1184.040 & Kecimen\\\\\n",
       "\t 75166 & 406.6907 & 243.0324 & 0.8018052 & 78789 & 0.6841296 & 1121.786 & Kecimen\\\\\n",
       "\t 90856 & 442.2670 & 266.3283 & 0.7983536 & 93717 & 0.6376128 & 1208.575 & Kecimen\\\\\n",
       "\t 45928 & 286.5406 & 208.7600 & 0.6849892 & 47336 & 0.6995994 &  844.162 & Kecimen\\\\\n",
       "\t 79408 & 352.1908 & 290.8275 & 0.5640113 & 81463 & 0.7927719 & 1073.251 & Kecimen\\\\\n",
       "\t 49242 & 318.1254 & 200.1221 & 0.7773513 & 51368 & 0.6584564 &  881.836 & Kecimen\\\\\n",
       "\\end{tabular}\n"
      ],
      "text/markdown": [
       "\n",
       "A tibble: 6 × 8\n",
       "\n",
       "| Area &lt;dbl&gt; | MajorAxisLength &lt;dbl&gt; | MinorAxisLength &lt;dbl&gt; | Eccentricity &lt;dbl&gt; | ConvexArea &lt;dbl&gt; | Extent &lt;dbl&gt; | Perimeter &lt;dbl&gt; | Class &lt;fct&gt; |\n",
       "|---|---|---|---|---|---|---|---|\n",
       "| 87524 | 442.2460 | 253.2912 | 0.8197384 | 90546 | 0.7586506 | 1184.040 | Kecimen |\n",
       "| 75166 | 406.6907 | 243.0324 | 0.8018052 | 78789 | 0.6841296 | 1121.786 | Kecimen |\n",
       "| 90856 | 442.2670 | 266.3283 | 0.7983536 | 93717 | 0.6376128 | 1208.575 | Kecimen |\n",
       "| 45928 | 286.5406 | 208.7600 | 0.6849892 | 47336 | 0.6995994 |  844.162 | Kecimen |\n",
       "| 79408 | 352.1908 | 290.8275 | 0.5640113 | 81463 | 0.7927719 | 1073.251 | Kecimen |\n",
       "| 49242 | 318.1254 | 200.1221 | 0.7773513 | 51368 | 0.6584564 |  881.836 | Kecimen |\n",
       "\n"
      ],
      "text/plain": [
       "  Area  MajorAxisLength MinorAxisLength Eccentricity ConvexArea Extent   \n",
       "1 87524 442.2460        253.2912        0.8197384    90546      0.7586506\n",
       "2 75166 406.6907        243.0324        0.8018052    78789      0.6841296\n",
       "3 90856 442.2670        266.3283        0.7983536    93717      0.6376128\n",
       "4 45928 286.5406        208.7600        0.6849892    47336      0.6995994\n",
       "5 79408 352.1908        290.8275        0.5640113    81463      0.7927719\n",
       "6 49242 318.1254        200.1221        0.7773513    51368      0.6584564\n",
       "  Perimeter Class  \n",
       "1 1184.040  Kecimen\n",
       "2 1121.786  Kecimen\n",
       "3 1208.575  Kecimen\n",
       "4  844.162  Kecimen\n",
       "5 1073.251  Kecimen\n",
       "6  881.836  Kecimen"
      ]
     },
     "metadata": {},
     "output_type": "display_data"
    }
   ],
   "source": [
    "url <- \"https://drive.google.com/uc?export=download&id=1t22wJSMIfD5xOuI0kbGAML_DQKbZNQ0W\"\n",
    "download.file(url, \"raisin.xlsx\", mode = \"wb\")\n",
    "raisin <- read_excel(\"raisin.xlsx\") |>\n",
    "mutate(Class = as_factor(Class))\n",
    "head(raisin)"
   ]
  },
  {
   "cell_type": "markdown",
   "id": "f90756e8-6de8-4b06-b6ea-6cea2018738a",
   "metadata": {},
   "source": [
    "This data is already in a tidy format because each row is a single observation; each column is a single variable and every cell contains only one value. Due to the imported data already being in a tidy format, we went straight to splitting the data into a training set and a testing set. Below, we split the data using 75% for training and 25% for testing. Using the ```initial_split``` function in R shuffled the data, and then split it so that the ratio of Kecimen to Besni class that already existed in the original data are the same in the split data. This prevents too much of one class in a split, potentially influencing the result of our classifier. "
   ]
  },
  {
   "cell_type": "code",
   "execution_count": 23,
   "id": "3142b241-24f0-4dd5-b913-02262559b675",
   "metadata": {},
   "outputs": [
    {
     "data": {
      "text/html": [
       "<table class=\"dataframe\">\n",
       "<caption>A tibble: 6 × 8</caption>\n",
       "<thead>\n",
       "\t<tr><th scope=col>Area</th><th scope=col>MajorAxisLength</th><th scope=col>MinorAxisLength</th><th scope=col>Eccentricity</th><th scope=col>ConvexArea</th><th scope=col>Extent</th><th scope=col>Perimeter</th><th scope=col>Class</th></tr>\n",
       "\t<tr><th scope=col>&lt;dbl&gt;</th><th scope=col>&lt;dbl&gt;</th><th scope=col>&lt;dbl&gt;</th><th scope=col>&lt;dbl&gt;</th><th scope=col>&lt;dbl&gt;</th><th scope=col>&lt;dbl&gt;</th><th scope=col>&lt;dbl&gt;</th><th scope=col>&lt;fct&gt;</th></tr>\n",
       "</thead>\n",
       "<tbody>\n",
       "\t<tr><td>137583</td><td>649.5415</td><td>273.2603</td><td>0.9072011</td><td>142650</td><td>0.7316377</td><td>1590.354</td><td>Besni</td></tr>\n",
       "\t<tr><td>117592</td><td>533.2929</td><td>288.5583</td><td>0.8409660</td><td>123587</td><td>0.7300677</td><td>1432.006</td><td>Besni</td></tr>\n",
       "\t<tr><td> 95546</td><td>487.1783</td><td>251.9602</td><td>0.8558749</td><td> 99166</td><td>0.7227820</td><td>1276.807</td><td>Besni</td></tr>\n",
       "\t<tr><td> 96582</td><td>446.7052</td><td>278.3255</td><td>0.7821716</td><td>100113</td><td>0.7065976</td><td>1216.979</td><td>Besni</td></tr>\n",
       "\t<tr><td> 61409</td><td>403.7013</td><td>209.3659</td><td>0.8550074</td><td> 67286</td><td>0.5973929</td><td>1083.477</td><td>Besni</td></tr>\n",
       "\t<tr><td>134303</td><td>600.7663</td><td>288.3849</td><td>0.8772529</td><td>138133</td><td>0.7424362</td><td>1497.515</td><td>Besni</td></tr>\n",
       "</tbody>\n",
       "</table>\n"
      ],
      "text/latex": [
       "A tibble: 6 × 8\n",
       "\\begin{tabular}{llllllll}\n",
       " Area & MajorAxisLength & MinorAxisLength & Eccentricity & ConvexArea & Extent & Perimeter & Class\\\\\n",
       " <dbl> & <dbl> & <dbl> & <dbl> & <dbl> & <dbl> & <dbl> & <fct>\\\\\n",
       "\\hline\n",
       "\t 137583 & 649.5415 & 273.2603 & 0.9072011 & 142650 & 0.7316377 & 1590.354 & Besni\\\\\n",
       "\t 117592 & 533.2929 & 288.5583 & 0.8409660 & 123587 & 0.7300677 & 1432.006 & Besni\\\\\n",
       "\t  95546 & 487.1783 & 251.9602 & 0.8558749 &  99166 & 0.7227820 & 1276.807 & Besni\\\\\n",
       "\t  96582 & 446.7052 & 278.3255 & 0.7821716 & 100113 & 0.7065976 & 1216.979 & Besni\\\\\n",
       "\t  61409 & 403.7013 & 209.3659 & 0.8550074 &  67286 & 0.5973929 & 1083.477 & Besni\\\\\n",
       "\t 134303 & 600.7663 & 288.3849 & 0.8772529 & 138133 & 0.7424362 & 1497.515 & Besni\\\\\n",
       "\\end{tabular}\n"
      ],
      "text/markdown": [
       "\n",
       "A tibble: 6 × 8\n",
       "\n",
       "| Area &lt;dbl&gt; | MajorAxisLength &lt;dbl&gt; | MinorAxisLength &lt;dbl&gt; | Eccentricity &lt;dbl&gt; | ConvexArea &lt;dbl&gt; | Extent &lt;dbl&gt; | Perimeter &lt;dbl&gt; | Class &lt;fct&gt; |\n",
       "|---|---|---|---|---|---|---|---|\n",
       "| 137583 | 649.5415 | 273.2603 | 0.9072011 | 142650 | 0.7316377 | 1590.354 | Besni |\n",
       "| 117592 | 533.2929 | 288.5583 | 0.8409660 | 123587 | 0.7300677 | 1432.006 | Besni |\n",
       "|  95546 | 487.1783 | 251.9602 | 0.8558749 |  99166 | 0.7227820 | 1276.807 | Besni |\n",
       "|  96582 | 446.7052 | 278.3255 | 0.7821716 | 100113 | 0.7065976 | 1216.979 | Besni |\n",
       "|  61409 | 403.7013 | 209.3659 | 0.8550074 |  67286 | 0.5973929 | 1083.477 | Besni |\n",
       "| 134303 | 600.7663 | 288.3849 | 0.8772529 | 138133 | 0.7424362 | 1497.515 | Besni |\n",
       "\n"
      ],
      "text/plain": [
       "  Area   MajorAxisLength MinorAxisLength Eccentricity ConvexArea Extent   \n",
       "1 137583 649.5415        273.2603        0.9072011    142650     0.7316377\n",
       "2 117592 533.2929        288.5583        0.8409660    123587     0.7300677\n",
       "3  95546 487.1783        251.9602        0.8558749     99166     0.7227820\n",
       "4  96582 446.7052        278.3255        0.7821716    100113     0.7065976\n",
       "5  61409 403.7013        209.3659        0.8550074     67286     0.5973929\n",
       "6 134303 600.7663        288.3849        0.8772529    138133     0.7424362\n",
       "  Perimeter Class\n",
       "1 1590.354  Besni\n",
       "2 1432.006  Besni\n",
       "3 1276.807  Besni\n",
       "4 1216.979  Besni\n",
       "5 1083.477  Besni\n",
       "6 1497.515  Besni"
      ]
     },
     "metadata": {},
     "output_type": "display_data"
    }
   ],
   "source": [
    "raisin_split <- initial_split(raisin, prop = 0.75, strata = Class)\n",
    "raisin_train <- training(raisin_split)\n",
    "raisin_test <- testing(raisin_split)\n",
    "head(raisin_train)"
   ]
  },
  {
   "cell_type": "markdown",
   "id": "84f41a67-0e20-4e73-b179-485fa39cbafe",
   "metadata": {},
   "source": [
    "Then, we summarized the data in one table and found the average of each of the variables. This is done so that we can plot these values in a boxplot, showing the spread of all the values. "
   ]
  },
  {
   "cell_type": "code",
   "execution_count": 24,
   "id": "73b3877d-7376-4e30-be85-61a6916682aa",
   "metadata": {},
   "outputs": [
    {
     "data": {
      "text/html": [
       "<table class=\"dataframe\">\n",
       "<caption>A tibble: 1 × 7</caption>\n",
       "<thead>\n",
       "\t<tr><th scope=col>Area</th><th scope=col>MajorAxisLength</th><th scope=col>MinorAxisLength</th><th scope=col>Eccentricity</th><th scope=col>ConvexArea</th><th scope=col>Extent</th><th scope=col>Perimeter</th></tr>\n",
       "\t<tr><th scope=col>&lt;dbl&gt;</th><th scope=col>&lt;dbl&gt;</th><th scope=col>&lt;dbl&gt;</th><th scope=col>&lt;dbl&gt;</th><th scope=col>&lt;dbl&gt;</th><th scope=col>&lt;dbl&gt;</th><th scope=col>&lt;dbl&gt;</th></tr>\n",
       "</thead>\n",
       "<tbody>\n",
       "\t<tr><td>87434.34</td><td>429.7509</td><td>253.5999</td><td>0.7821323</td><td>90793.85</td><td>0.6992206</td><td>1161.997</td></tr>\n",
       "</tbody>\n",
       "</table>\n"
      ],
      "text/latex": [
       "A tibble: 1 × 7\n",
       "\\begin{tabular}{lllllll}\n",
       " Area & MajorAxisLength & MinorAxisLength & Eccentricity & ConvexArea & Extent & Perimeter\\\\\n",
       " <dbl> & <dbl> & <dbl> & <dbl> & <dbl> & <dbl> & <dbl>\\\\\n",
       "\\hline\n",
       "\t 87434.34 & 429.7509 & 253.5999 & 0.7821323 & 90793.85 & 0.6992206 & 1161.997\\\\\n",
       "\\end{tabular}\n"
      ],
      "text/markdown": [
       "\n",
       "A tibble: 1 × 7\n",
       "\n",
       "| Area &lt;dbl&gt; | MajorAxisLength &lt;dbl&gt; | MinorAxisLength &lt;dbl&gt; | Eccentricity &lt;dbl&gt; | ConvexArea &lt;dbl&gt; | Extent &lt;dbl&gt; | Perimeter &lt;dbl&gt; |\n",
       "|---|---|---|---|---|---|---|\n",
       "| 87434.34 | 429.7509 | 253.5999 | 0.7821323 | 90793.85 | 0.6992206 | 1161.997 |\n",
       "\n"
      ],
      "text/plain": [
       "  Area     MajorAxisLength MinorAxisLength Eccentricity ConvexArea Extent   \n",
       "1 87434.34 429.7509        253.5999        0.7821323    90793.85   0.6992206\n",
       "  Perimeter\n",
       "1 1161.997 "
      ]
     },
     "metadata": {},
     "output_type": "display_data"
    }
   ],
   "source": [
    "mean_all_variables <- raisin_train |>\n",
    "select(-Class) |>\n",
    "map_df(mean)\n",
    "mean_all_variables"
   ]
  },
  {
   "cell_type": "code",
   "execution_count": 25,
   "id": "662f25a9-7277-4390-8469-a4a47742c964",
   "metadata": {},
   "outputs": [
    {
     "data": {
      "image/png": "[encoded data removed]",
      "text/plain": [
       "Plot with title \"Boxplot 1: Area For Each Class\""
      ]
     },
     "metadata": {
      "image/png": {
       "height": 360,
       "width": 480
      }
     },
     "output_type": "display_data"
    },
    {
     "data": {
      "image/png": "[encoded data removed]",
      "text/plain": [
       "Plot with title \"Boxplot 2: Major Axis Length For Each Class\""
      ]
     },
     "metadata": {
      "image/png": {
       "height": 360,
       "width": 480
      }
     },
     "output_type": "display_data"
    },
    {
     "data": {
      "image/png": "[encoded data removed]",
      "text/plain": [
       "Plot with title \"Boxplot 3: Minor Axis Length For Each Class\""
      ]
     },
     "metadata": {
      "image/png": {
       "height": 360,
       "width": 480
      }
     },
     "output_type": "display_data"
    },
    {
     "data": {
      "image/png": "[encoded data removed]",
      "text/plain": [
       "Plot with title \"Boxplot 4: Eccentricity For Each Class\""
      ]
     },
     "metadata": {
      "image/png": {
       "height": 360,
       "width": 480
      }
     },
     "output_type": "display_data"
    },
    {
     "data": {
      "image/png": "[encoded data removed]",
      "text/plain": [
       "Plot with title \"Boxplot 5: Convex Area For Each Class\""
      ]
     },
     "metadata": {
      "image/png": {
       "height": 360,
       "width": 480
      }
     },
     "output_type": "display_data"
    },
    {
     "data": {
      "image/png": "[encoded data removed]",
      "text/plain": [
       "Plot with title \"Boxplot 6: Extent For Each Class\""
      ]
     },
     "metadata": {
      "image/png": {
       "height": 360,
       "width": 480
      }
     },
     "output_type": "display_data"
    },
    {
     "data": {
      "image/png": "[encoded data removed]",
      "text/plain": [
       "Plot with title \"Boxplot 7: Perimeter For Each Class\""
      ]
     },
     "metadata": {
      "image/png": {
       "height": 360,
       "width": 480
      }
     },
     "output_type": "display_data"
    }
   ],
   "source": [
    "options(repr.plot.width = 8, repr.plot.height = 6)\n",
    "area_boxplot <- boxplot(Area ~ Class, \n",
    "                        data = raisin_train, \n",
    "                        main = \"Boxplot 1: Area For Each Class\",\n",
    "                        xlab = \"Class\",\n",
    "                        ylab = \"Area\")\n",
    "major_axis_length_boxplot <- boxplot(MajorAxisLength ~ Class, \n",
    "                        data = raisin_train, \n",
    "                        main = \"Boxplot 2: Major Axis Length For Each Class\",\n",
    "                        xlab = \"Class\",\n",
    "                        ylab = \"Major Axis Length\")\n",
    "minor_axis_length_boxplot <- boxplot(MinorAxisLength ~ Class, \n",
    "                        data = raisin_train, \n",
    "                        main = \"Boxplot 3: Minor Axis Length For Each Class\",\n",
    "                        xlab = \"Class\",\n",
    "                        ylab = \"Minor Axis Length\")\n",
    "eccentricity_boxplot <- boxplot(Eccentricity ~ Class, \n",
    "                        data = raisin_train, \n",
    "                        main = \"Boxplot 4: Eccentricity For Each Class\",\n",
    "                        xlab = \"Class\",\n",
    "                        ylab = \"Eccentricity\")\n",
    "convex_area_boxplot <- boxplot(ConvexArea ~ Class, \n",
    "                        data = raisin_train, \n",
    "                        main = \"Boxplot 5: Convex Area For Each Class\",\n",
    "                        xlab = \"Class\",\n",
    "                        ylab = \"Convex Area\")\n",
    "extent_boxplot <- boxplot(Extent ~ Class, \n",
    "                        data = raisin_train, \n",
    "                        main = \"Boxplot 6: Extent For Each Class\",\n",
    "                        xlab = \"Class\",\n",
    "                        ylab = \"Extent\")\n",
    "perimeter_boxplot <- boxplot(Perimeter ~ Class, \n",
    "                        data = raisin_train, \n",
    "                        main = \"Boxplot 7: Perimeter For Each Class\",\n",
    "                        xlab = \"Class\",\n",
    "                        ylab = \"Perimeter\")"
   ]
  },
  {
   "cell_type": "markdown",
   "id": "6ade66c3-701b-47d8-b836-45be81432b08",
   "metadata": {},
   "source": [
    "With the seven box plots, we compared the values and distributions of each variable between the two classes of raisins. If there was significant overlap between the plot distributions of the two raisin varieties for a variable, it meant that there was a lot of similarity in values between the two, deeming the use of this variable ineffective in our classifier. The classifier would most likely not be able to differentiate between the two raisin varieties using this variable as a predictor. Hence, for our classifier, we chose variables with only slight overlap to decide which combination of variables would be best to use as our predictors. "
   ]
  },
  {
   "cell_type": "markdown",
   "id": "52cc2a72-e33a-45db-8c2f-55aa478f3659",
   "metadata": {},
   "source": [
    "The boxplots above indicate that \"Area\", \"MajorAxisLength\", \"MinorAxisLength\", \"ConvexArea\", \"Perimeter\" are the variables that don't show much overlap for the two classes, so we will pick these five variables as our predictors."
   ]
  },
  {
   "cell_type": "code",
   "execution_count": 26,
   "id": "1bf37b13-3212-41cd-8c56-4eeb5699fc41",
   "metadata": {},
   "outputs": [
    {
     "data": {
      "text/html": [
       "<table class=\"dataframe\">\n",
       "<caption>A tibble: 6 × 6</caption>\n",
       "<thead>\n",
       "\t<tr><th scope=col>Area</th><th scope=col>MajorAxisLength</th><th scope=col>MinorAxisLength</th><th scope=col>ConvexArea</th><th scope=col>Perimeter</th><th scope=col>Class</th></tr>\n",
       "\t<tr><th scope=col>&lt;dbl&gt;</th><th scope=col>&lt;dbl&gt;</th><th scope=col>&lt;dbl&gt;</th><th scope=col>&lt;dbl&gt;</th><th scope=col>&lt;dbl&gt;</th><th scope=col>&lt;fct&gt;</th></tr>\n",
       "</thead>\n",
       "<tbody>\n",
       "\t<tr><td>137583</td><td>649.5415</td><td>273.2603</td><td>142650</td><td>1590.354</td><td>Besni</td></tr>\n",
       "\t<tr><td>117592</td><td>533.2929</td><td>288.5583</td><td>123587</td><td>1432.006</td><td>Besni</td></tr>\n",
       "\t<tr><td> 95546</td><td>487.1783</td><td>251.9602</td><td> 99166</td><td>1276.807</td><td>Besni</td></tr>\n",
       "\t<tr><td> 96582</td><td>446.7052</td><td>278.3255</td><td>100113</td><td>1216.979</td><td>Besni</td></tr>\n",
       "\t<tr><td> 61409</td><td>403.7013</td><td>209.3659</td><td> 67286</td><td>1083.477</td><td>Besni</td></tr>\n",
       "\t<tr><td>134303</td><td>600.7663</td><td>288.3849</td><td>138133</td><td>1497.515</td><td>Besni</td></tr>\n",
       "</tbody>\n",
       "</table>\n"
      ],
      "text/latex": [
       "A tibble: 6 × 6\n",
       "\\begin{tabular}{llllll}\n",
       " Area & MajorAxisLength & MinorAxisLength & ConvexArea & Perimeter & Class\\\\\n",
       " <dbl> & <dbl> & <dbl> & <dbl> & <dbl> & <fct>\\\\\n",
       "\\hline\n",
       "\t 137583 & 649.5415 & 273.2603 & 142650 & 1590.354 & Besni\\\\\n",
       "\t 117592 & 533.2929 & 288.5583 & 123587 & 1432.006 & Besni\\\\\n",
       "\t  95546 & 487.1783 & 251.9602 &  99166 & 1276.807 & Besni\\\\\n",
       "\t  96582 & 446.7052 & 278.3255 & 100113 & 1216.979 & Besni\\\\\n",
       "\t  61409 & 403.7013 & 209.3659 &  67286 & 1083.477 & Besni\\\\\n",
       "\t 134303 & 600.7663 & 288.3849 & 138133 & 1497.515 & Besni\\\\\n",
       "\\end{tabular}\n"
      ],
      "text/markdown": [
       "\n",
       "A tibble: 6 × 6\n",
       "\n",
       "| Area &lt;dbl&gt; | MajorAxisLength &lt;dbl&gt; | MinorAxisLength &lt;dbl&gt; | ConvexArea &lt;dbl&gt; | Perimeter &lt;dbl&gt; | Class &lt;fct&gt; |\n",
       "|---|---|---|---|---|---|\n",
       "| 137583 | 649.5415 | 273.2603 | 142650 | 1590.354 | Besni |\n",
       "| 117592 | 533.2929 | 288.5583 | 123587 | 1432.006 | Besni |\n",
       "|  95546 | 487.1783 | 251.9602 |  99166 | 1276.807 | Besni |\n",
       "|  96582 | 446.7052 | 278.3255 | 100113 | 1216.979 | Besni |\n",
       "|  61409 | 403.7013 | 209.3659 |  67286 | 1083.477 | Besni |\n",
       "| 134303 | 600.7663 | 288.3849 | 138133 | 1497.515 | Besni |\n",
       "\n"
      ],
      "text/plain": [
       "  Area   MajorAxisLength MinorAxisLength ConvexArea Perimeter Class\n",
       "1 137583 649.5415        273.2603        142650     1590.354  Besni\n",
       "2 117592 533.2929        288.5583        123587     1432.006  Besni\n",
       "3  95546 487.1783        251.9602         99166     1276.807  Besni\n",
       "4  96582 446.7052        278.3255        100113     1216.979  Besni\n",
       "5  61409 403.7013        209.3659         67286     1083.477  Besni\n",
       "6 134303 600.7663        288.3849        138133     1497.515  Besni"
      ]
     },
     "metadata": {},
     "output_type": "display_data"
    }
   ],
   "source": [
    "train_cols_needed <- raisin_train |>\n",
    "select(Area, MajorAxisLength, MinorAxisLength, ConvexArea, Perimeter, Class)\n",
    "head(train_cols_needed)"
   ]
  },
  {
   "cell_type": "markdown",
   "id": "ad76a44f-8f72-4437-8e45-78200f227e6d",
   "metadata": {},
   "source": [
    "We are looking to choose the best parameter K to use in our classifier that gives us the highest accuracy, and thus, we need to compare the classifier’s performance for different values of K with the different combinations of predictor variables. We will do this by first using the ```vfold_cv``` function. We performed a 10-fold cross-validation in R. This means that our training data was split into 10 even chunks, using 1 chunk as the validation set and the rest as the training set. "
   ]
  },
  {
   "cell_type": "markdown",
   "id": "237f37bb-ec84-4009-90e6-50a00b1f20bb",
   "metadata": {},
   "source": [
    "Next, we created a data frame with a ```neighbors``` variable that contained K values to try with our classifier. Our data frame contains ```neighbors``` values from 26 to 54, stepping by 2. "
   ]
  },
  {
   "cell_type": "markdown",
   "id": "8e10633b-1477-46c5-88d7-26229efcc220",
   "metadata": {},
   "source": [
    "For our first combination of three predictors, ```Area + MajorAxisLength + MinorAxisLength```, we created a recipe. This specifies the ```Class``` variable is our target variable and that the three predictor variables are our predictors. Then, we scaled and centered all our predictors so that they have a mean of 0 and a standard deviation of 1. "
   ]
  },
  {
   "cell_type": "markdown",
   "id": "bb308729-4853-4938-8a44-bf665d82abaf",
   "metadata": {},
   "source": [
    "We then created a model specification using the ```nearest_neighbor``` function. Because we are looking for the best K to use, we will have to tune our model,  setting ```neighbors = tune()``` instead of giving a particular value. For performing K-nearest neighbors classification, we use the ```kknn``` package in R, as well as using the ```set_mode``` function to specify that this model is a classification problem. "
   ]
  },
  {
   "cell_type": "markdown",
   "id": "5d8bb67e-dd2e-4ff7-a4dc-1c5b4cb94aee",
   "metadata": {},
   "source": [
    "Finally, for this first set of predictors, we need to put it all together in a workflow. We add the recipe and the model, then we use the ```tune_grid``` function to fit the model for each value in the range of K we specified in the ```gridvals``` data frame we created earlier. By using the ```collect_metrics``` function, we can find the result of our classifier’s validation accuracy across the folds. Filtering the ```accuracy``` row out of the ```.metric``` column will allow us to plot this on a line graph, showing us which value of K gives us the best estimated accuracy. Because we are determining the best combination of predictors, we must do this same process for the 9 other different combinations as well. "
   ]
  },
  {
   "cell_type": "code",
   "execution_count": 27,
   "id": "894712ea-49a5-4f7b-a187-31d6ce336730",
   "metadata": {},
   "outputs": [],
   "source": [
    "raisin_vfold <- vfold_cv(train_cols_needed, v = 10, strata = Class)\n",
    "gridvals <- tibble(neighbors = seq(from = 26, to = 54, by = 2))\n",
    "\n",
    "##1st combination of the three predictors: Area + MajorAxisLength + MinorAxisLength\n",
    "\n",
    "##Recipe\n",
    "recipe_area_major_minor <- recipe(Class ~ Area + MajorAxisLength + MinorAxisLength, data = train_cols_needed) |>\n",
    "step_center(all_predictors()) |>\n",
    "step_scale(all_predictors())\n",
    "\n",
    "##Model\n",
    "knn_spec <- nearest_neighbor(weight_func = \"rectangular\", neighbors = tune()) |>\n",
    "set_engine(\"kknn\") |>\n",
    "set_mode(\"classification\")\n",
    "\n",
    "results_area_major_minor <- workflow() |>\n",
    "add_recipe(recipe_area_major_minor) |>\n",
    "add_model(knn_spec) |>\n",
    "tune_grid(resamples = raisin_vfold, grid = gridvals) |>\n",
    "collect_metrics() |>\n",
    "filter(.metric == \"accuracy\")"
   ]
  },
  {
   "cell_type": "code",
   "execution_count": 28,
   "id": "d4c49056-be42-4556-913d-17a37d492dc6",
   "metadata": {},
   "outputs": [],
   "source": [
    "##2nd combination of the three predictors: Area + MajorAxisLength + ConvexArea\n",
    "\n",
    "recipe_area_major_convex <- recipe(Class ~ Area + MajorAxisLength + ConvexArea, data = train_cols_needed) |>\n",
    "step_center(all_predictors()) |>\n",
    "step_scale(all_predictors())\n",
    "\n",
    "results_area_major_convex <- workflow() |>\n",
    "add_recipe(recipe_area_major_convex) |>\n",
    "add_model(knn_spec) |>\n",
    "tune_grid(resamples = raisin_vfold, grid = gridvals) |>\n",
    "collect_metrics() |>\n",
    "filter(.metric == \"accuracy\")"
   ]
  },
  {
   "cell_type": "code",
   "execution_count": 29,
   "id": "15d26e18-0d24-498e-a933-196fc3fb3213",
   "metadata": {},
   "outputs": [],
   "source": [
    "##3rd combination of the three predictors: Area + MajorAxisLength + Perimeter\n",
    "\n",
    "recipe_area_major_perim <- recipe(Class ~ Area + MajorAxisLength + Perimeter, data = train_cols_needed) |>\n",
    "step_center(all_predictors()) |>\n",
    "step_scale(all_predictors())\n",
    "\n",
    "results_area_major_perim <- workflow() |>\n",
    "add_recipe(recipe_area_major_perim) |>\n",
    "add_model(knn_spec) |>\n",
    "tune_grid(resamples = raisin_vfold, grid = gridvals) |>\n",
    "collect_metrics() |>\n",
    "filter(.metric == \"accuracy\")"
   ]
  },
  {
   "cell_type": "code",
   "execution_count": 30,
   "id": "1efe020f-6221-4054-a3a8-2a615767c328",
   "metadata": {},
   "outputs": [],
   "source": [
    "##4th combination of the three predictors: Area + MinorAxisLength + ConvexArea\n",
    "recipe_area_minor_convex <- recipe(Class ~ Area + MinorAxisLength + ConvexArea, data = train_cols_needed) |>\n",
    "step_center(all_predictors()) |>\n",
    "step_scale(all_predictors())\n",
    "\n",
    "results_area_minor_convex <- workflow() |>\n",
    "add_recipe(recipe_area_minor_convex) |>\n",
    "add_model(knn_spec) |>\n",
    "tune_grid(resamples = raisin_vfold, grid = gridvals) |>\n",
    "collect_metrics() |>\n",
    "filter(.metric == \"accuracy\")"
   ]
  },
  {
   "cell_type": "code",
   "execution_count": 31,
   "id": "871d85ac-caca-4a85-bf88-571f23ebe5fb",
   "metadata": {},
   "outputs": [],
   "source": [
    "##5th combination of the three predictors: Area + MinorAxisLength + Perimeter\n",
    "recipe_area_minor_perim <- recipe(Class ~ Area + MinorAxisLength + Perimeter, data = train_cols_needed) |>\n",
    "step_center(all_predictors()) |>\n",
    "step_scale(all_predictors())\n",
    "\n",
    "results_area_minor_perim <- workflow() |>\n",
    "add_recipe(recipe_area_minor_perim) |>\n",
    "add_model(knn_spec) |>\n",
    "tune_grid(resamples = raisin_vfold, grid = gridvals) |>\n",
    "collect_metrics() |>\n",
    "filter(.metric == \"accuracy\")"
   ]
  },
  {
   "cell_type": "code",
   "execution_count": 32,
   "id": "377b4d66-9d00-45b6-8965-026829a9d451",
   "metadata": {},
   "outputs": [],
   "source": [
    "##6th combination of the three predictors: Area + ConvexArea + Perimeter\n",
    "recipe_area_convex_perim <- recipe(Class ~ Area + ConvexArea + Perimeter, data = train_cols_needed) |>\n",
    "step_center(all_predictors()) |>\n",
    "step_scale(all_predictors())\n",
    "\n",
    "results_area_convex_perim <- workflow() |>\n",
    "add_recipe(recipe_area_convex_perim) |>\n",
    "add_model(knn_spec) |>\n",
    "tune_grid(resamples = raisin_vfold, grid = gridvals) |>\n",
    "collect_metrics() |>\n",
    "filter(.metric == \"accuracy\")"
   ]
  },
  {
   "cell_type": "code",
   "execution_count": 33,
   "id": "db7169f0-0406-4282-ba21-f3a22972e8a5",
   "metadata": {},
   "outputs": [],
   "source": [
    "##7th combination of the three predictors: MajorAxisLength + MinorAxisLength + ConvexArea\n",
    "\n",
    "recipe_major_minor_convex <- recipe(Class ~ MajorAxisLength + MinorAxisLength + ConvexArea, data = train_cols_needed) |>\n",
    "step_center(all_predictors()) |>\n",
    "step_scale(all_predictors())\n",
    "\n",
    "results_major_minor_convex <- workflow() |>\n",
    "add_recipe(recipe_major_minor_convex) |>\n",
    "add_model(knn_spec) |>\n",
    "tune_grid(resamples = raisin_vfold, grid = gridvals) |>\n",
    "collect_metrics() |>\n",
    "filter(.metric == \"accuracy\")"
   ]
  },
  {
   "cell_type": "code",
   "execution_count": 34,
   "id": "7758f4bc-fc93-464b-94de-80833bdc3c92",
   "metadata": {},
   "outputs": [],
   "source": [
    "##8th combination of the three predictors: MajorAxisLength + MinorAxisLength + Perimeter\n",
    "\n",
    "recipe_major_minor_perim <- recipe(Class ~ MajorAxisLength + MinorAxisLength + Perimeter, data = train_cols_needed) |>\n",
    "step_center(all_predictors()) |>\n",
    "step_scale(all_predictors())\n",
    "\n",
    "results_major_minor_perim <- workflow() |>\n",
    "add_recipe(recipe_major_minor_perim) |>\n",
    "add_model(knn_spec) |>\n",
    "tune_grid(resamples = raisin_vfold, grid = gridvals) |>\n",
    "collect_metrics() |>\n",
    "filter(.metric == \"accuracy\")"
   ]
  },
  {
   "cell_type": "code",
   "execution_count": 35,
   "id": "5691af86-e6ba-437f-a675-c8fd0faddf6c",
   "metadata": {},
   "outputs": [],
   "source": [
    "##9th combination of the three predictors: MajorAxisLength + ConvexArea + Perimeter\n",
    "\n",
    "recipe_major_convex_perim <- recipe(Class ~ MajorAxisLength + ConvexArea + Perimeter, data = train_cols_needed) |>\n",
    "step_center(all_predictors()) |>\n",
    "step_scale(all_predictors())\n",
    "\n",
    "results_major_convex_perim <- workflow() |>\n",
    "add_recipe(recipe_major_convex_perim) |>\n",
    "add_model(knn_spec) |>\n",
    "tune_grid(resamples = raisin_vfold, grid = gridvals) |>\n",
    "collect_metrics() |>\n",
    "filter(.metric == \"accuracy\")"
   ]
  },
  {
   "cell_type": "code",
   "execution_count": 36,
   "id": "2ed00f69-7032-4eb2-b511-f5e34fe15f01",
   "metadata": {},
   "outputs": [],
   "source": [
    "##10th combination of the three predictors: MinorAxisLength + ConvexArea + Perimeter\n",
    "\n",
    "recipe_minor_convex_perim <- recipe(Class ~ MinorAxisLength + ConvexArea + Perimeter, data = train_cols_needed) |>\n",
    "step_center(all_predictors()) |>\n",
    "step_scale(all_predictors())\n",
    "\n",
    "results_minor_convex_perim <- workflow() |>\n",
    "add_recipe(recipe_minor_convex_perim) |>\n",
    "add_model(knn_spec) |>\n",
    "tune_grid(resamples = raisin_vfold, grid = gridvals) |>\n",
    "collect_metrics() |>\n",
    "filter(.metric == \"accuracy\")"
   ]
  },
  {
   "cell_type": "markdown",
   "id": "528b10e0-f97e-4cca-92c7-c03c86a46d75",
   "metadata": {},
   "source": [
    "By using the ```bind_rows``` function, we can bind together multiple data frames and then plot the estimated accuracy versus the number of neighbors for each combination of predictors on the same plot. "
   ]
  },
  {
   "cell_type": "code",
   "execution_count": 37,
   "id": "464636d9-4bd4-461b-baba-9e5e74f2eaa5",
   "metadata": {},
   "outputs": [
    {
     "data": {
      "image/png": "[encoded data removed]",
      "text/plain": [
       "plot without title"
      ]
     },
     "metadata": {
      "image/png": {
       "height": 600,
       "width": 960
      }
     },
     "output_type": "display_data"
    }
   ],
   "source": [
    "labels_area_major_minor <- results_area_major_minor |>\n",
    "mutate(predictors = \"Area+Major+Minor\")\n",
    "\n",
    "labels_area_major_convex <- results_area_major_convex |>\n",
    "mutate(predictors = \"Area+Major+Convex\")\n",
    "\n",
    "labels_area_major_perim <- results_area_major_perim |>\n",
    "mutate(predictors = \"Area+Major+Perim\")\n",
    "\n",
    "labels_area_minor_convex <- results_area_minor_convex |>\n",
    "mutate(predictors = \"Area+Minor+Convex\")\n",
    "\n",
    "labels_area_minor_perim <- results_area_minor_perim |>\n",
    "mutate(predictors = \"Area+Minor+Perim\")\n",
    "\n",
    "labels_area_convex_perim <- results_area_convex_perim |>\n",
    "mutate(predictors = \"Area+Convex+Perim\")\n",
    "\n",
    "labels_major_minor_convex <- results_major_minor_convex |>\n",
    "mutate(predictors = \"Major+Minor+Convex\")\n",
    "\n",
    "labels_major_minor_perim <- results_major_minor_perim |>\n",
    "mutate(predictors = \"Major+Minor+Perim\")\n",
    "\n",
    "labels_major_convex_perim <- results_major_convex_perim |>\n",
    "mutate(predictors = \"Major+Convex+Perim\")\n",
    "\n",
    "labels_minor_convex_perim <- results_minor_convex_perim |>\n",
    "mutate(predictors = \"Minor+Convex+Perim\")\n",
    "\n",
    "all_with_labels <- bind_rows(labels_area_major_minor, labels_area_major_convex, labels_area_major_perim,\n",
    "                             labels_area_minor_convex, labels_area_minor_perim, labels_area_convex_perim,\n",
    "                             labels_major_minor_convex, labels_major_minor_perim, labels_major_convex_perim,\n",
    "                             labels_minor_convex_perim)\n",
    "\n",
    "options(repr.plot.width = 16, repr.plot.height = 10)\n",
    "acc_vs_k <- ggplot(all_with_labels, aes(x = neighbors, y = mean, color = predictors)) +\n",
    "geom_line() +\n",
    "labs(x = \"Neighbors\", y = \"Estimated Accuracy\", color = \"Predictors\") +\n",
    "ggtitle(\"Estimated Accuracy Against Neighbors for Different Predictors\") +\n",
    "theme(text = element_text(size = 20)) +\n",
    "scale_color_brewer(palette = \"Paired\")\n",
    "acc_vs_k"
   ]
  },
  {
   "cell_type": "code",
   "execution_count": 38,
   "id": "d133ee62-4020-4c87-a1b9-b39e8f7fc61f",
   "metadata": {},
   "outputs": [
    {
     "data": {
      "text/html": [
       "<table class=\"dataframe\">\n",
       "<caption>A tibble: 1 × 7</caption>\n",
       "<thead>\n",
       "\t<tr><th scope=col>neighbors</th><th scope=col>.metric</th><th scope=col>.estimator</th><th scope=col>mean</th><th scope=col>n</th><th scope=col>std_err</th><th scope=col>.config</th></tr>\n",
       "\t<tr><th scope=col>&lt;dbl&gt;</th><th scope=col>&lt;chr&gt;</th><th scope=col>&lt;chr&gt;</th><th scope=col>&lt;dbl&gt;</th><th scope=col>&lt;int&gt;</th><th scope=col>&lt;dbl&gt;</th><th scope=col>&lt;chr&gt;</th></tr>\n",
       "</thead>\n",
       "<tbody>\n",
       "\t<tr><td>50</td><td>accuracy</td><td>binary</td><td>0.8637255</td><td>10</td><td>0.01237665</td><td>Preprocessor1_Model13</td></tr>\n",
       "</tbody>\n",
       "</table>\n"
      ],
      "text/latex": [
       "A tibble: 1 × 7\n",
       "\\begin{tabular}{lllllll}\n",
       " neighbors & .metric & .estimator & mean & n & std\\_err & .config\\\\\n",
       " <dbl> & <chr> & <chr> & <dbl> & <int> & <dbl> & <chr>\\\\\n",
       "\\hline\n",
       "\t 50 & accuracy & binary & 0.8637255 & 10 & 0.01237665 & Preprocessor1\\_Model13\\\\\n",
       "\\end{tabular}\n"
      ],
      "text/markdown": [
       "\n",
       "A tibble: 1 × 7\n",
       "\n",
       "| neighbors &lt;dbl&gt; | .metric &lt;chr&gt; | .estimator &lt;chr&gt; | mean &lt;dbl&gt; | n &lt;int&gt; | std_err &lt;dbl&gt; | .config &lt;chr&gt; |\n",
       "|---|---|---|---|---|---|---|\n",
       "| 50 | accuracy | binary | 0.8637255 | 10 | 0.01237665 | Preprocessor1_Model13 |\n",
       "\n"
      ],
      "text/plain": [
       "  neighbors .metric  .estimator mean      n  std_err    .config              \n",
       "1 50        accuracy binary     0.8637255 10 0.01237665 Preprocessor1_Model13"
      ]
     },
     "metadata": {},
     "output_type": "display_data"
    }
   ],
   "source": [
    "results_minor_convex_perim |>\n",
    "filter(mean == max(mean))"
   ]
  },
  {
   "cell_type": "markdown",
   "id": "f57ba64c-2c32-451d-a00f-bc86e7fe36a7",
   "metadata": {},
   "source": [
    "As seen in the above plot, the highest peak is given by the predictors ```MinorAxisLength +ConvexArea + Perimeter```. In particular, the highest estimated accuracy of 86.37% is given by this combination at K = 50. We will now use this K value to build our final model."
   ]
  },
  {
   "cell_type": "markdown",
   "id": "0eebbca0-ad88-4a4a-83c4-a312e13a0bf4",
   "metadata": {},
   "source": [
    "First, we created a new model specification. We will create this the same way we created the model specification for earlier, but set ```neighbors = 50``` instead of using ```tune()```. "
   ]
  },
  {
   "cell_type": "markdown",
   "id": "28400f23-dc36-4ffa-8fad-bca3d0963393",
   "metadata": {},
   "source": [
    "We then created our workflow by adding the recipe, the final model specification, and retraining the classifier by fitting the whole workflow on the training data using the ```fit``` function. "
   ]
  },
  {
   "cell_type": "markdown",
   "id": "38be8371-2335-4531-b82f-95e7f29527c4",
   "metadata": {},
   "source": [
    "Next, we use the ```predict``` function to fit our model on the testing data. We use the ```bind_cols``` function to add the column of predictions made to the original test data- ```.pred_class``` contains the predicted raisin variety while ```Class``` contains the true raisin variety. "
   ]
  },
  {
   "cell_type": "markdown",
   "id": "b3e48a41-24e0-4c26-822b-05043a0a9372",
   "metadata": {},
   "source": [
    "Finally, we use the ```metrics``` function to compute the accuracy of our model, specifying that ```truth = Class``` and that the classifier estimate was ```.pred_class```. We filter out for ```accuracy``` and find that the accuracy of our classifier is 85.84%."
   ]
  },
  {
   "cell_type": "code",
   "execution_count": 39,
   "id": "b9813fb6-cc4f-4d81-a51c-765d33c6ff35",
   "metadata": {},
   "outputs": [
    {
     "data": {
      "text/html": [
       "<table class=\"dataframe\">\n",
       "<caption>A tibble: 6 × 9</caption>\n",
       "<thead>\n",
       "\t<tr><th scope=col>.pred_class</th><th scope=col>Area</th><th scope=col>MajorAxisLength</th><th scope=col>MinorAxisLength</th><th scope=col>Eccentricity</th><th scope=col>ConvexArea</th><th scope=col>Extent</th><th scope=col>Perimeter</th><th scope=col>Class</th></tr>\n",
       "\t<tr><th scope=col>&lt;fct&gt;</th><th scope=col>&lt;dbl&gt;</th><th scope=col>&lt;dbl&gt;</th><th scope=col>&lt;dbl&gt;</th><th scope=col>&lt;dbl&gt;</th><th scope=col>&lt;dbl&gt;</th><th scope=col>&lt;dbl&gt;</th><th scope=col>&lt;dbl&gt;</th><th scope=col>&lt;fct&gt;</th></tr>\n",
       "</thead>\n",
       "<tbody>\n",
       "\t<tr><td>Besni  </td><td>87524</td><td>442.2460</td><td>253.2912</td><td>0.8197384</td><td>90546</td><td>0.7586506</td><td>1184.040</td><td>Kecimen</td></tr>\n",
       "\t<tr><td>Kecimen</td><td>75166</td><td>406.6907</td><td>243.0324</td><td>0.8018052</td><td>78789</td><td>0.6841296</td><td>1121.786</td><td>Kecimen</td></tr>\n",
       "\t<tr><td>Kecimen</td><td>64380</td><td>366.9648</td><td>227.7716</td><td>0.7840556</td><td>66125</td><td>0.6643757</td><td> 981.544</td><td>Kecimen</td></tr>\n",
       "\t<tr><td>Kecimen</td><td>43441</td><td>276.6108</td><td>201.8131</td><td>0.6838823</td><td>45133</td><td>0.6908556</td><td> 803.748</td><td>Kecimen</td></tr>\n",
       "\t<tr><td>Kecimen</td><td>69726</td><td>354.1769</td><td>252.5292</td><td>0.7011610</td><td>71849</td><td>0.7343985</td><td>1035.501</td><td>Kecimen</td></tr>\n",
       "\t<tr><td>Kecimen</td><td>57346</td><td>330.4784</td><td>222.4437</td><td>0.7395550</td><td>59365</td><td>0.7236088</td><td> 928.272</td><td>Kecimen</td></tr>\n",
       "</tbody>\n",
       "</table>\n"
      ],
      "text/latex": [
       "A tibble: 6 × 9\n",
       "\\begin{tabular}{lllllllll}\n",
       " .pred\\_class & Area & MajorAxisLength & MinorAxisLength & Eccentricity & ConvexArea & Extent & Perimeter & Class\\\\\n",
       " <fct> & <dbl> & <dbl> & <dbl> & <dbl> & <dbl> & <dbl> & <dbl> & <fct>\\\\\n",
       "\\hline\n",
       "\t Besni   & 87524 & 442.2460 & 253.2912 & 0.8197384 & 90546 & 0.7586506 & 1184.040 & Kecimen\\\\\n",
       "\t Kecimen & 75166 & 406.6907 & 243.0324 & 0.8018052 & 78789 & 0.6841296 & 1121.786 & Kecimen\\\\\n",
       "\t Kecimen & 64380 & 366.9648 & 227.7716 & 0.7840556 & 66125 & 0.6643757 &  981.544 & Kecimen\\\\\n",
       "\t Kecimen & 43441 & 276.6108 & 201.8131 & 0.6838823 & 45133 & 0.6908556 &  803.748 & Kecimen\\\\\n",
       "\t Kecimen & 69726 & 354.1769 & 252.5292 & 0.7011610 & 71849 & 0.7343985 & 1035.501 & Kecimen\\\\\n",
       "\t Kecimen & 57346 & 330.4784 & 222.4437 & 0.7395550 & 59365 & 0.7236088 &  928.272 & Kecimen\\\\\n",
       "\\end{tabular}\n"
      ],
      "text/markdown": [
       "\n",
       "A tibble: 6 × 9\n",
       "\n",
       "| .pred_class &lt;fct&gt; | Area &lt;dbl&gt; | MajorAxisLength &lt;dbl&gt; | MinorAxisLength &lt;dbl&gt; | Eccentricity &lt;dbl&gt; | ConvexArea &lt;dbl&gt; | Extent &lt;dbl&gt; | Perimeter &lt;dbl&gt; | Class &lt;fct&gt; |\n",
       "|---|---|---|---|---|---|---|---|---|\n",
       "| Besni   | 87524 | 442.2460 | 253.2912 | 0.8197384 | 90546 | 0.7586506 | 1184.040 | Kecimen |\n",
       "| Kecimen | 75166 | 406.6907 | 243.0324 | 0.8018052 | 78789 | 0.6841296 | 1121.786 | Kecimen |\n",
       "| Kecimen | 64380 | 366.9648 | 227.7716 | 0.7840556 | 66125 | 0.6643757 |  981.544 | Kecimen |\n",
       "| Kecimen | 43441 | 276.6108 | 201.8131 | 0.6838823 | 45133 | 0.6908556 |  803.748 | Kecimen |\n",
       "| Kecimen | 69726 | 354.1769 | 252.5292 | 0.7011610 | 71849 | 0.7343985 | 1035.501 | Kecimen |\n",
       "| Kecimen | 57346 | 330.4784 | 222.4437 | 0.7395550 | 59365 | 0.7236088 |  928.272 | Kecimen |\n",
       "\n"
      ],
      "text/plain": [
       "  .pred_class Area  MajorAxisLength MinorAxisLength Eccentricity ConvexArea\n",
       "1 Besni       87524 442.2460        253.2912        0.8197384    90546     \n",
       "2 Kecimen     75166 406.6907        243.0324        0.8018052    78789     \n",
       "3 Kecimen     64380 366.9648        227.7716        0.7840556    66125     \n",
       "4 Kecimen     43441 276.6108        201.8131        0.6838823    45133     \n",
       "5 Kecimen     69726 354.1769        252.5292        0.7011610    71849     \n",
       "6 Kecimen     57346 330.4784        222.4437        0.7395550    59365     \n",
       "  Extent    Perimeter Class  \n",
       "1 0.7586506 1184.040  Kecimen\n",
       "2 0.6841296 1121.786  Kecimen\n",
       "3 0.6643757  981.544  Kecimen\n",
       "4 0.6908556  803.748  Kecimen\n",
       "5 0.7343985 1035.501  Kecimen\n",
       "6 0.7236088  928.272  Kecimen"
      ]
     },
     "metadata": {},
     "output_type": "display_data"
    },
    {
     "data": {
      "text/html": [
       "<table class=\"dataframe\">\n",
       "<caption>A tibble: 1 × 3</caption>\n",
       "<thead>\n",
       "\t<tr><th scope=col>.metric</th><th scope=col>.estimator</th><th scope=col>.estimate</th></tr>\n",
       "\t<tr><th scope=col>&lt;chr&gt;</th><th scope=col>&lt;chr&gt;</th><th scope=col>&lt;dbl&gt;</th></tr>\n",
       "</thead>\n",
       "<tbody>\n",
       "\t<tr><td>accuracy</td><td>binary</td><td>0.8584071</td></tr>\n",
       "</tbody>\n",
       "</table>\n"
      ],
      "text/latex": [
       "A tibble: 1 × 3\n",
       "\\begin{tabular}{lll}\n",
       " .metric & .estimator & .estimate\\\\\n",
       " <chr> & <chr> & <dbl>\\\\\n",
       "\\hline\n",
       "\t accuracy & binary & 0.8584071\\\\\n",
       "\\end{tabular}\n"
      ],
      "text/markdown": [
       "\n",
       "A tibble: 1 × 3\n",
       "\n",
       "| .metric &lt;chr&gt; | .estimator &lt;chr&gt; | .estimate &lt;dbl&gt; |\n",
       "|---|---|---|\n",
       "| accuracy | binary | 0.8584071 |\n",
       "\n"
      ],
      "text/plain": [
       "  .metric  .estimator .estimate\n",
       "1 accuracy binary     0.8584071"
      ]
     },
     "metadata": {},
     "output_type": "display_data"
    }
   ],
   "source": [
    "##We will use the 10th combination of predictors (MinorAxisLength + ConvexArea + Perimeter) to build our final model with k = 50.\n",
    "\n",
    "final_model <- nearest_neighbor(weight_func = \"rectangular\", neighbors = 50) |>\n",
    "set_engine(\"kknn\") |>\n",
    "set_mode(\"classification\")\n",
    "\n",
    "knn_fit <- workflow() |>\n",
    "add_recipe(recipe_minor_convex_perim) |>\n",
    "add_model(final_model) |>\n",
    "fit(data = train_cols_needed)\n",
    "\n",
    "##Fit the model to our testing data and see the prediction accuracy based on this model:\n",
    "\n",
    "raisin_test_predictions <- predict(knn_fit, raisin_test) |>\n",
    "bind_cols(raisin_test)\n",
    "head(raisin_test_predictions)\n",
    "\n",
    "raisin_test_acc <- raisin_test_predictions |>\n",
    "metrics(truth = Class, estimate = .pred_class) |>\n",
    "filter(.metric == \"accuracy\")\n",
    "raisin_test_acc"
   ]
  },
  {
   "cell_type": "markdown",
   "id": "35bdc944-ddec-4727-9fa1-bd724f66c12f",
   "metadata": {},
   "source": [
    "We can see that the second highest peak is at K = 32 in the plot of estimated accuracy against neighbors for different values of K. This peak is given by the same set of predictors, ```MinorAxisLength + ConvexArea + Perimeter```. We will build another model, using K = 32 instead of K = 50 to see if the accuracy of the classifier will be higher with this model. "
   ]
  },
  {
   "cell_type": "code",
   "execution_count": 40,
   "id": "53570333-32a5-410e-ad05-6d12cb9573ea",
   "metadata": {},
   "outputs": [
    {
     "data": {
      "text/html": [
       "<table class=\"dataframe\">\n",
       "<caption>A tibble: 1 × 3</caption>\n",
       "<thead>\n",
       "\t<tr><th scope=col>.metric</th><th scope=col>.estimator</th><th scope=col>.estimate</th></tr>\n",
       "\t<tr><th scope=col>&lt;chr&gt;</th><th scope=col>&lt;chr&gt;</th><th scope=col>&lt;dbl&gt;</th></tr>\n",
       "</thead>\n",
       "<tbody>\n",
       "\t<tr><td>accuracy</td><td>binary</td><td>0.8628319</td></tr>\n",
       "</tbody>\n",
       "</table>\n"
      ],
      "text/latex": [
       "A tibble: 1 × 3\n",
       "\\begin{tabular}{lll}\n",
       " .metric & .estimator & .estimate\\\\\n",
       " <chr> & <chr> & <dbl>\\\\\n",
       "\\hline\n",
       "\t accuracy & binary & 0.8628319\\\\\n",
       "\\end{tabular}\n"
      ],
      "text/markdown": [
       "\n",
       "A tibble: 1 × 3\n",
       "\n",
       "| .metric &lt;chr&gt; | .estimator &lt;chr&gt; | .estimate &lt;dbl&gt; |\n",
       "|---|---|---|\n",
       "| accuracy | binary | 0.8628319 |\n",
       "\n"
      ],
      "text/plain": [
       "  .metric  .estimator .estimate\n",
       "1 accuracy binary     0.8628319"
      ]
     },
     "metadata": {},
     "output_type": "display_data"
    }
   ],
   "source": [
    "final_model_2 <- nearest_neighbor(weight_func = \"rectangular\", neighbors = 32) |>\n",
    "set_engine(\"kknn\") |>\n",
    "set_mode(\"classification\")\n",
    "\n",
    "knn_fit_2 <- workflow() |>\n",
    "add_recipe(recipe_minor_convex_perim) |>\n",
    "add_model(final_model_2) |>\n",
    "fit(data = train_cols_needed)\n",
    "\n",
    "raisin_test_predictions_2 <- predict(knn_fit_2, raisin_test) |>\n",
    "bind_cols(raisin_test)\n",
    "\n",
    "raisin_test_acc_2 <- raisin_test_predictions_2 |>\n",
    "metrics(truth = Class, estimate = .pred_class) |>\n",
    "filter(.metric == \"accuracy\")\n",
    "raisin_test_acc_2"
   ]
  },
  {
   "cell_type": "markdown",
   "id": "e3790284-fb29-4615-8b70-c2464f8d7c60",
   "metadata": {},
   "source": [
    "The actual accuracy with K = 32 is 86.2832%, higher than that with K = 50. "
   ]
  },
  {
   "cell_type": "markdown",
   "id": "08f3715d-4739-45df-bc3f-0f60d3c24ba8",
   "metadata": {},
   "source": [
    "### Discussion"
   ]
  },
  {
   "cell_type": "markdown",
   "id": "3f4eec2b-6f8e-46a1-aba6-c5bbbecb151a",
   "metadata": {},
   "source": [
    "We found that - using three morphological variables - our algorithm yields an accuracy rating of approximately 86% when predicting whether a raisin belongs to the Besni or Kecimen varieties. The three variables in question are minor axis length, convex area, and perimeter, which were selected due to their large degree of contrast between Besni and Kecimen raisins. In Besni raisins, minor axis length ranges from 180 to 440 pixels, whereas in Kecimen raisins, it ranges from 144 to 326 pixels. Furthermore, in Besni raisins, convex areas range from 41,924 to 278,217 pixels, while in Kecimen raisins, they range from 26,139 to 176,818 pixels. Additionally, Besni raisins' perimeters range from 772 to 2,698 pixels, while the corresponding range for Kecimen raisins is 619 to 2,098 pixels."
   ]
  },
  {
   "cell_type": "markdown",
   "id": "d033ede4-9083-4d13-a332-687a5698ce8c",
   "metadata": {},
   "source": [
    "With the significant dichotomy of the above variables in mind, we predicted that our algorithm would have an accuracy rate significantly above the random probability of success, which is 50% since there are 113 of each Besni and Kecimen raisins within our testing dataset. We also predicted that our algorithm would have an accuracy rate significantly below 100% due to all three predictor variables having noticeable ranges of overlap between the two classes of raisins (minor axis lengths overlap from 180 to 326 pixels, convex areas overlap from 41,924 to 176,818 pixels, and perimeters overlap from 772 to 2,098 pixels). Thus, since our accuracy result of 86% is both significantly above 50% and significantly below 100%, our results fit our expectations."
   ]
  },
  {
   "cell_type": "markdown",
   "id": "7932bc5c-11ad-45bc-a8c8-cc3eb82401fb",
   "metadata": {},
   "source": [
    "Practical uses for this algorithm or one like it include commercial applications (e.g., to sell raisins by weight; this is especially useful if one variety of raisin is more expensive than the other) or scientific research (e.g., sequencing raisin genomes to inform agricultural practices for better yield of produce). However, while an accuracy rate of 86% may be sufficient for the former use, it could result in a great deal of scientific error in the latter use. In such a case, it may be best to use a more complex algorithm which takes into consideration more than three morphological variables, which raises the question of how much one, two, or three additional variables would contribute to raising the accuracy score of the algorithm."
   ]
  },
  {
   "cell_type": "markdown",
   "id": "f00cd0ae-0e0f-4d81-8564-ebd4dadbf44c",
   "metadata": {},
   "source": [
    "### References"
   ]
  },
  {
   "cell_type": "markdown",
   "id": "2d183b3c-f252-45bc-ba9c-99ee22b754f7",
   "metadata": {},
   "source": [
    "Çinar, İ., Koklu, M., & Taşdemi̇R, Ş. (2020). Kuru Üzüm Tanelerinin Makine Görüşü ve Yapay Zeka Yöntemleri Kullanılarak Sınıflandırılması. Gazi Journal of Engineering Sciences, 6(3), 200–209. https://doi.org/10.30855/gmbd.2020.03.03\n",
    "\n",
    "Dua, D. and Graff, C. (2019). UCI Machine Learning Repository [http://archive.ics.uci.edu/ml]. Irvine, CA: University of California, School of Information and Computer Science.\n",
    "\n",
    "Kanellos, P. T., Kaliora, A. C., Tentolouris, N. K., Argiana, V., Perrea, D., Kalogeropoulos, N., Kountouri, A. M., & Karathanos, V. T. (2014). A pilot, randomized controlled trial to examine the health outcomes of raisin consumption in patients with diabetes. Nutrition, 30(3), 358–364. https://doi.org/10.1016/j.nut.2013.07.020\n",
    "\n",
    "Starke, Y., & Atalaysun, M. (n.d.). Turkey Raisin Annual Turkey Annual Raisin Report. 5.\n",
    "\n",
    "UCI machine learning repository: Raisin dataset data set. (n.d.). https://archive.ics.uci.edu/ml/datasets/Raisin+Dataset#"
   ]
  }
 ],
 "metadata": {
  "kernelspec": {
   "display_name": "R",
   "language": "R",
   "name": "ir"
  },
  "language_info": {
   "codemirror_mode": "r",
   "file_extension": ".r",
   "mimetype": "text/x-r-source",
   "name": "R",
   "pygments_lexer": "r",
   "version": "4.2.2"
  }
 },
 "nbformat": 4,
 "nbformat_minor": 5
}
